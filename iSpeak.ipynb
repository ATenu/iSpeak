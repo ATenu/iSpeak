{
 "cells": [
  {
   "cell_type": "markdown",
   "metadata": {},
   "source": [
    "# iSpeak\n",
    "### This is a python script which is able to support verbal communication among people when language barriers occur"
   ]
  },
  {
   "cell_type": "code",
   "execution_count": null,
   "metadata": {},
   "outputs": [],
   "source": [
    "import speech_recognition as sr\n",
    "import pyaudio\n",
    "from google_trans_new import google_translator \n",
    "from gtts import gTTS\n",
    "from playsound import playsound\n",
    "import os\n",
    "\n",
    "# Use the speech recognition library to recognize speech and convert to text \n",
    "r = sr.Recognizer()\n",
    "mic = sr.Microphone()\n",
    "with mic as source: \n",
    "   r.adjust_for_ambient_noise(source) \n",
    "   audio = r.listen(source) \n",
    "\n",
    "result = r.recognize_google(audio, language='it-IT')\n",
    "print(result)\n",
    "\n",
    "# Translate the message into a target language by using google trans new library\n",
    "p = google_translator() \n",
    "translated = p.translate(result, lang_tgt='en')\n",
    "\n",
    "print(translated)\n",
    "\n",
    "# Google Text-To-Speach conversion\n",
    "tts = gTTS(translated)\n",
    "tts.save('out.mp3')\n",
    "playsound('out.mp3')\n",
    "os.remove('out.mp3')"
   ]
  }
 ],
 "metadata": {
  "kernelspec": {
   "display_name": "Python 3",
   "language": "python",
   "name": "python3"
  },
  "language_info": {
   "codemirror_mode": {
    "name": "ipython",
    "version": 3
   },
   "file_extension": ".py",
   "mimetype": "text/x-python",
   "name": "python",
   "nbconvert_exporter": "python",
   "pygments_lexer": "ipython3",
   "version": "3.8.5"
  }
 },
 "nbformat": 4,
 "nbformat_minor": 4
}
